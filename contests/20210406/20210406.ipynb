{
 "metadata": {
  "language_info": {
   "codemirror_mode": {
    "name": "ipython",
    "version": 3
   },
   "file_extension": ".py",
   "mimetype": "text/x-python",
   "name": "python",
   "nbconvert_exporter": "python",
   "pygments_lexer": "ipython3",
   "version": "3.8.2"
  },
  "orig_nbformat": 2,
  "kernelspec": {
   "name": "python3",
   "display_name": "Python 3.8.2 64-bit",
   "metadata": {
    "interpreter": {
     "hash": "4cd7ab41f5fca4b9b44701077e38c5ffd31fe66a6cab21e0214b68d958d0e462"
    }
   }
  }
 },
 "nbformat": 4,
 "nbformat_minor": 2,
 "cells": [
  {
   "cell_type": "code",
   "execution_count": 1,
   "metadata": {},
   "outputs": [],
   "source": [
    "#!/usr/bin/env python3\n",
    "import sys\n",
    "from bisect import bisect, bisect_left, bisect_right, insort, insort_left, insort_right  # type: ignore\n",
    "from collections import Counter, defaultdict, deque  # type: ignore\n",
    "from fractions import gcd  # type: ignore\n",
    "from heapq import heapify, heappop, heappush, heappushpop, heapreplace, merge  # type: ignore\n",
    "from itertools import accumulate, combinations, permutations, product  # type: ignore"
   ]
  },
  {
   "cell_type": "code",
   "execution_count": 7,
   "metadata": {},
   "outputs": [
    {
     "output_type": "execute_result",
     "data": {
      "text/plain": [
       "[(1, 2, 3), (1, 3, 2), (2, 1, 3), (2, 3, 1), (3, 1, 2), (3, 2, 1)]"
      ]
     },
     "metadata": {},
     "execution_count": 7
    }
   ],
   "source": [
    "l = [1,2,3]\n",
    "a = permutations(l, len(l))\n",
    "\n",
    "list(a)"
   ]
  },
  {
   "cell_type": "code",
   "execution_count": 9,
   "metadata": {},
   "outputs": [
    {
     "output_type": "execute_result",
     "data": {
      "text/plain": [
       "2.0"
      ]
     },
     "metadata": {},
     "execution_count": 9
    }
   ],
   "source": [
    "import math\n",
    "math.sqrt(4)\n"
   ]
  },
  {
   "cell_type": "code",
   "execution_count": 10,
   "metadata": {},
   "outputs": [
    {
     "output_type": "execute_result",
     "data": {
      "text/plain": [
       "3.3333333333333335"
      ]
     },
     "metadata": {},
     "execution_count": 10
    }
   ],
   "source": [
    "10/3"
   ]
  },
  {
   "cell_type": "code",
   "execution_count": 17,
   "metadata": {},
   "outputs": [
    {
     "output_type": "execute_result",
     "data": {
      "text/plain": [
       "[('A', 'B'),\n",
       " ('A', 'X'),\n",
       " ('A', 'Y'),\n",
       " ('B', 'A'),\n",
       " ('B', 'X'),\n",
       " ('B', 'Y'),\n",
       " ('X', 'A'),\n",
       " ('X', 'B'),\n",
       " ('X', 'Y'),\n",
       " ('Y', 'A'),\n",
       " ('Y', 'B'),\n",
       " ('Y', 'X')]"
      ]
     },
     "metadata": {},
     "execution_count": 17
    }
   ],
   "source": [
    "a = permutations('ABXY', 2)\n",
    "\n",
    "\n",
    "AB\n",
    "list(a)\n"
   ]
  },
  {
   "cell_type": "code",
   "execution_count": 21,
   "metadata": {},
   "outputs": [
    {
     "output_type": "execute_result",
     "data": {
      "text/plain": [
       "[('AB', 'AY'),\n",
       " ('AB', 'AX'),\n",
       " ('AB', 'BX'),\n",
       " ('AB', 'BY'),\n",
       " ('AB', 'XY'),\n",
       " ('AY', 'AB'),\n",
       " ('AY', 'AX'),\n",
       " ('AY', 'BX'),\n",
       " ('AY', 'BY'),\n",
       " ('AY', 'XY'),\n",
       " ('AX', 'AB'),\n",
       " ('AX', 'AY'),\n",
       " ('AX', 'BX'),\n",
       " ('AX', 'BY'),\n",
       " ('AX', 'XY'),\n",
       " ('BX', 'AB'),\n",
       " ('BX', 'AY'),\n",
       " ('BX', 'AX'),\n",
       " ('BX', 'BY'),\n",
       " ('BX', 'XY'),\n",
       " ('BY', 'AB'),\n",
       " ('BY', 'AY'),\n",
       " ('BY', 'AX'),\n",
       " ('BY', 'BX'),\n",
       " ('BY', 'XY'),\n",
       " ('XY', 'AB'),\n",
       " ('XY', 'AY'),\n",
       " ('XY', 'AX'),\n",
       " ('XY', 'BX'),\n",
       " ('XY', 'BY')]"
      ]
     },
     "metadata": {},
     "execution_count": 21
    }
   ],
   "source": [
    "d = ('AB','AY','AX', 'BX', 'BY','XY')\n",
    "a = permutations(d, 2)\n",
    "list(a)"
   ]
  },
  {
   "cell_type": "code",
   "execution_count": 24,
   "metadata": {},
   "outputs": [
    {
     "output_type": "stream",
     "name": "stdout",
     "text": [
      "abcdab\n"
     ]
    }
   ],
   "source": [
    "s = 'abcdab'\n",
    "s.replace('ab','R')\n",
    "print(s)"
   ]
  }
 ]
}
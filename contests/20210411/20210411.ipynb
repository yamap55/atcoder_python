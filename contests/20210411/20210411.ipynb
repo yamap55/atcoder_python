{
 "metadata": {
  "language_info": {
   "codemirror_mode": {
    "name": "ipython",
    "version": 3
   },
   "file_extension": ".py",
   "mimetype": "text/x-python",
   "name": "python",
   "nbconvert_exporter": "python",
   "pygments_lexer": "ipython3",
   "version": "3.8.2"
  },
  "orig_nbformat": 2,
  "kernelspec": {
   "name": "python382jvsc74a57bd04cd7ab41f5fca4b9b44701077e38c5ffd31fe66a6cab21e0214b68d958d0e462",
   "display_name": "Python 3.8.2 64-bit"
  }
 },
 "nbformat": 4,
 "nbformat_minor": 2,
 "cells": [
  {
   "cell_type": "code",
   "execution_count": 1,
   "metadata": {},
   "outputs": [
    {
     "output_type": "execute_result",
     "data": {
      "text/plain": [
       "0"
      ]
     },
     "metadata": {},
     "execution_count": 1
    }
   ],
   "source": [
    "int(1 / 2)\n"
   ]
  },
  {
   "cell_type": "code",
   "execution_count": 17,
   "metadata": {},
   "outputs": [
    {
     "output_type": "stream",
     "name": "stdout",
     "text": [
      "3210123\n3\n321 321\nYes\n"
     ]
    }
   ],
   "source": [
    "a = '0032112300'.strip('0')\n",
    "print(a)\n",
    "aa = len(a)\n",
    "\n",
    "b = int(aa /2)\n",
    "print(b)\n",
    "\n",
    "c1 = a[:b]\n",
    "c2 = a[b:]\n",
    "if aa %2 != 0:\n",
    "    c2 = a[b+1:]\n",
    "c2 = ''.join(reversed(c2))\n",
    "print(c1, c2)\n",
    "if c1 == c2:\n",
    "    print('Yes')\n",
    "else:\n",
    "    print('No')"
   ]
  },
  {
   "cell_type": "code",
   "execution_count": 19,
   "metadata": {},
   "outputs": [
    {
     "output_type": "execute_result",
     "data": {
      "text/plain": [
       "8"
      ]
     },
     "metadata": {},
     "execution_count": 19
    }
   ],
   "source": [
    "pow(2,3)\n"
   ]
  },
  {
   "cell_type": "code",
   "execution_count": 28,
   "metadata": {},
   "outputs": [
    {
     "output_type": "stream",
     "name": "stdout",
     "text": [
      "{'e', 'b', 'd', 'c', 'f', 'g', 'a'}\n"
     ]
    },
    {
     "output_type": "execute_result",
     "data": {
      "text/plain": [
       "7"
      ]
     },
     "metadata": {},
     "execution_count": 28
    }
   ],
   "source": [
    "s1 = 'abc'\n",
    "s2 = 'cde'\n",
    "s3 = 'efg'\n",
    "\n",
    "s = set(s1+s2+s3)\n",
    "print(s)\n",
    "len(s)"
   ]
  },
  {
   "cell_type": "code",
   "execution_count": 26,
   "metadata": {},
   "outputs": [
    {
     "output_type": "execute_result",
     "data": {
      "text/plain": [
       "[0, 1, 2, 3, 4, 5, 6, 7, 8, 9]"
      ]
     },
     "metadata": {},
     "execution_count": 26
    }
   ],
   "source": [
    "list(range(10))\n"
   ]
  },
  {
   "cell_type": "code",
   "execution_count": 30,
   "metadata": {},
   "outputs": [
    {
     "output_type": "execute_result",
     "data": {
      "text/plain": [
       "[('b', 0), ('a', 1)]"
      ]
     },
     "metadata": {},
     "execution_count": 30
    }
   ],
   "source": [
    "from itertools import accumulate, combinations, permutations, product  # type: ignore\n",
    "a = permutations(range(10),2)\n",
    "z = list(a)[0]\n",
    "s = set('a' + 'b')\n",
    "\n",
    "list(zip(s, z))\n"
   ]
  }
 ]
}